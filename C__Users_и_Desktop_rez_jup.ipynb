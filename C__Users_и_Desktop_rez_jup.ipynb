{
 "cells": [
  {
   "cell_type": "markdown",
   "id": "5cced436",
   "metadata": {
    "deletable": false,
    "editable": false,
    "id": "c81daeeb"
   },
   "source": [
    "# Исследование надежности заемщиков\n"
   ]
  },
  {
   "cell_type": "markdown",
   "id": "7920c089",
   "metadata": {
    "deletable": false,
    "editable": false,
    "id": "827c20bf"
   },
   "source": [
    "Во второй части проекта вы выполните шаги 3 и 4. Их вручную проверит ревьюер.\n",
    "Чтобы вам не пришлось писать код заново для шагов 1 и 2, мы добавили авторские решения в ячейки с кодом. \n",
    "\n"
   ]
  },
  {
   "cell_type": "markdown",
   "id": "fc813117",
   "metadata": {
    "deletable": false,
    "editable": false,
    "id": "744d7639"
   },
   "source": [
    "## Откройте таблицу и изучите общую информацию о данных"
   ]
  },
  {
   "cell_type": "markdown",
   "id": "712a9117",
   "metadata": {
    "deletable": false,
    "editable": false,
    "id": "e7a14c31"
   },
   "source": [
    "**Задание 1. Импортируйте библиотеку pandas. Считайте данные из csv-файла в датафрейм и сохраните в переменную `data`. Путь к файлу:**\n",
    "\n",
    "`/datasets/data.csv`"
   ]
  },
  {
   "cell_type": "code",
   "execution_count": 1,
   "id": "f19abb2e",
   "metadata": {
    "deletable": false,
    "id": "7bcf75c9"
   },
   "outputs": [],
   "source": [
    "import pandas as pd\n",
    "\n",
    "try:\n",
    "    data = pd.read_csv('/datasets/data.csv')\n",
    "except:\n",
    "    data = pd.read_csv('https://code.s3.yandex.net/datasets/data.csv')"
   ]
  },
  {
   "cell_type": "markdown",
   "id": "6afffeb1",
   "metadata": {
    "deletable": false,
    "editable": false,
    "id": "b8038fe3"
   },
   "source": [
    "**Задание 2. Выведите первые 20 строчек датафрейма `data` на экран.**"
   ]
  },
  {
   "cell_type": "code",
   "execution_count": 2,
   "id": "8ad7439b",
   "metadata": {
    "deletable": false,
    "id": "2a7cab99",
    "outputId": "1a8f3ef2-d323-4ec2-ddf7-89670b5944c4"
   },
   "outputs": [
    {
     "data": {
      "text/html": [
       "<div>\n",
       "<style scoped>\n",
       "    .dataframe tbody tr th:only-of-type {\n",
       "        vertical-align: middle;\n",
       "    }\n",
       "\n",
       "    .dataframe tbody tr th {\n",
       "        vertical-align: top;\n",
       "    }\n",
       "\n",
       "    .dataframe thead th {\n",
       "        text-align: right;\n",
       "    }\n",
       "</style>\n",
       "<table border=\"1\" class=\"dataframe\">\n",
       "  <thead>\n",
       "    <tr style=\"text-align: right;\">\n",
       "      <th></th>\n",
       "      <th>children</th>\n",
       "      <th>days_employed</th>\n",
       "      <th>dob_years</th>\n",
       "      <th>education</th>\n",
       "      <th>education_id</th>\n",
       "      <th>family_status</th>\n",
       "      <th>family_status_id</th>\n",
       "      <th>gender</th>\n",
       "      <th>income_type</th>\n",
       "      <th>debt</th>\n",
       "      <th>total_income</th>\n",
       "      <th>purpose</th>\n",
       "    </tr>\n",
       "  </thead>\n",
       "  <tbody>\n",
       "    <tr>\n",
       "      <th>0</th>\n",
       "      <td>1</td>\n",
       "      <td>-8437.673028</td>\n",
       "      <td>42</td>\n",
       "      <td>высшее</td>\n",
       "      <td>0</td>\n",
       "      <td>женат / замужем</td>\n",
       "      <td>0</td>\n",
       "      <td>F</td>\n",
       "      <td>сотрудник</td>\n",
       "      <td>0</td>\n",
       "      <td>253875.639453</td>\n",
       "      <td>покупка жилья</td>\n",
       "    </tr>\n",
       "    <tr>\n",
       "      <th>1</th>\n",
       "      <td>1</td>\n",
       "      <td>-4024.803754</td>\n",
       "      <td>36</td>\n",
       "      <td>среднее</td>\n",
       "      <td>1</td>\n",
       "      <td>женат / замужем</td>\n",
       "      <td>0</td>\n",
       "      <td>F</td>\n",
       "      <td>сотрудник</td>\n",
       "      <td>0</td>\n",
       "      <td>112080.014102</td>\n",
       "      <td>приобретение автомобиля</td>\n",
       "    </tr>\n",
       "    <tr>\n",
       "      <th>2</th>\n",
       "      <td>0</td>\n",
       "      <td>-5623.422610</td>\n",
       "      <td>33</td>\n",
       "      <td>Среднее</td>\n",
       "      <td>1</td>\n",
       "      <td>женат / замужем</td>\n",
       "      <td>0</td>\n",
       "      <td>M</td>\n",
       "      <td>сотрудник</td>\n",
       "      <td>0</td>\n",
       "      <td>145885.952297</td>\n",
       "      <td>покупка жилья</td>\n",
       "    </tr>\n",
       "    <tr>\n",
       "      <th>3</th>\n",
       "      <td>3</td>\n",
       "      <td>-4124.747207</td>\n",
       "      <td>32</td>\n",
       "      <td>среднее</td>\n",
       "      <td>1</td>\n",
       "      <td>женат / замужем</td>\n",
       "      <td>0</td>\n",
       "      <td>M</td>\n",
       "      <td>сотрудник</td>\n",
       "      <td>0</td>\n",
       "      <td>267628.550329</td>\n",
       "      <td>дополнительное образование</td>\n",
       "    </tr>\n",
       "    <tr>\n",
       "      <th>4</th>\n",
       "      <td>0</td>\n",
       "      <td>340266.072047</td>\n",
       "      <td>53</td>\n",
       "      <td>среднее</td>\n",
       "      <td>1</td>\n",
       "      <td>гражданский брак</td>\n",
       "      <td>1</td>\n",
       "      <td>F</td>\n",
       "      <td>пенсионер</td>\n",
       "      <td>0</td>\n",
       "      <td>158616.077870</td>\n",
       "      <td>сыграть свадьбу</td>\n",
       "    </tr>\n",
       "    <tr>\n",
       "      <th>5</th>\n",
       "      <td>0</td>\n",
       "      <td>-926.185831</td>\n",
       "      <td>27</td>\n",
       "      <td>высшее</td>\n",
       "      <td>0</td>\n",
       "      <td>гражданский брак</td>\n",
       "      <td>1</td>\n",
       "      <td>M</td>\n",
       "      <td>компаньон</td>\n",
       "      <td>0</td>\n",
       "      <td>255763.565419</td>\n",
       "      <td>покупка жилья</td>\n",
       "    </tr>\n",
       "    <tr>\n",
       "      <th>6</th>\n",
       "      <td>0</td>\n",
       "      <td>-2879.202052</td>\n",
       "      <td>43</td>\n",
       "      <td>высшее</td>\n",
       "      <td>0</td>\n",
       "      <td>женат / замужем</td>\n",
       "      <td>0</td>\n",
       "      <td>F</td>\n",
       "      <td>компаньон</td>\n",
       "      <td>0</td>\n",
       "      <td>240525.971920</td>\n",
       "      <td>операции с жильем</td>\n",
       "    </tr>\n",
       "    <tr>\n",
       "      <th>7</th>\n",
       "      <td>0</td>\n",
       "      <td>-152.779569</td>\n",
       "      <td>50</td>\n",
       "      <td>СРЕДНЕЕ</td>\n",
       "      <td>1</td>\n",
       "      <td>женат / замужем</td>\n",
       "      <td>0</td>\n",
       "      <td>M</td>\n",
       "      <td>сотрудник</td>\n",
       "      <td>0</td>\n",
       "      <td>135823.934197</td>\n",
       "      <td>образование</td>\n",
       "    </tr>\n",
       "    <tr>\n",
       "      <th>8</th>\n",
       "      <td>2</td>\n",
       "      <td>-6929.865299</td>\n",
       "      <td>35</td>\n",
       "      <td>ВЫСШЕЕ</td>\n",
       "      <td>0</td>\n",
       "      <td>гражданский брак</td>\n",
       "      <td>1</td>\n",
       "      <td>F</td>\n",
       "      <td>сотрудник</td>\n",
       "      <td>0</td>\n",
       "      <td>95856.832424</td>\n",
       "      <td>на проведение свадьбы</td>\n",
       "    </tr>\n",
       "    <tr>\n",
       "      <th>9</th>\n",
       "      <td>0</td>\n",
       "      <td>-2188.756445</td>\n",
       "      <td>41</td>\n",
       "      <td>среднее</td>\n",
       "      <td>1</td>\n",
       "      <td>женат / замужем</td>\n",
       "      <td>0</td>\n",
       "      <td>M</td>\n",
       "      <td>сотрудник</td>\n",
       "      <td>0</td>\n",
       "      <td>144425.938277</td>\n",
       "      <td>покупка жилья для семьи</td>\n",
       "    </tr>\n",
       "    <tr>\n",
       "      <th>10</th>\n",
       "      <td>2</td>\n",
       "      <td>-4171.483647</td>\n",
       "      <td>36</td>\n",
       "      <td>высшее</td>\n",
       "      <td>0</td>\n",
       "      <td>женат / замужем</td>\n",
       "      <td>0</td>\n",
       "      <td>M</td>\n",
       "      <td>компаньон</td>\n",
       "      <td>0</td>\n",
       "      <td>113943.491460</td>\n",
       "      <td>покупка недвижимости</td>\n",
       "    </tr>\n",
       "    <tr>\n",
       "      <th>11</th>\n",
       "      <td>0</td>\n",
       "      <td>-792.701887</td>\n",
       "      <td>40</td>\n",
       "      <td>среднее</td>\n",
       "      <td>1</td>\n",
       "      <td>женат / замужем</td>\n",
       "      <td>0</td>\n",
       "      <td>F</td>\n",
       "      <td>сотрудник</td>\n",
       "      <td>0</td>\n",
       "      <td>77069.234271</td>\n",
       "      <td>покупка коммерческой недвижимости</td>\n",
       "    </tr>\n",
       "    <tr>\n",
       "      <th>12</th>\n",
       "      <td>0</td>\n",
       "      <td>NaN</td>\n",
       "      <td>65</td>\n",
       "      <td>среднее</td>\n",
       "      <td>1</td>\n",
       "      <td>гражданский брак</td>\n",
       "      <td>1</td>\n",
       "      <td>M</td>\n",
       "      <td>пенсионер</td>\n",
       "      <td>0</td>\n",
       "      <td>NaN</td>\n",
       "      <td>сыграть свадьбу</td>\n",
       "    </tr>\n",
       "    <tr>\n",
       "      <th>13</th>\n",
       "      <td>0</td>\n",
       "      <td>-1846.641941</td>\n",
       "      <td>54</td>\n",
       "      <td>неоконченное высшее</td>\n",
       "      <td>2</td>\n",
       "      <td>женат / замужем</td>\n",
       "      <td>0</td>\n",
       "      <td>F</td>\n",
       "      <td>сотрудник</td>\n",
       "      <td>0</td>\n",
       "      <td>130458.228857</td>\n",
       "      <td>приобретение автомобиля</td>\n",
       "    </tr>\n",
       "    <tr>\n",
       "      <th>14</th>\n",
       "      <td>0</td>\n",
       "      <td>-1844.956182</td>\n",
       "      <td>56</td>\n",
       "      <td>высшее</td>\n",
       "      <td>0</td>\n",
       "      <td>гражданский брак</td>\n",
       "      <td>1</td>\n",
       "      <td>F</td>\n",
       "      <td>компаньон</td>\n",
       "      <td>1</td>\n",
       "      <td>165127.911772</td>\n",
       "      <td>покупка жилой недвижимости</td>\n",
       "    </tr>\n",
       "    <tr>\n",
       "      <th>15</th>\n",
       "      <td>1</td>\n",
       "      <td>-972.364419</td>\n",
       "      <td>26</td>\n",
       "      <td>среднее</td>\n",
       "      <td>1</td>\n",
       "      <td>женат / замужем</td>\n",
       "      <td>0</td>\n",
       "      <td>F</td>\n",
       "      <td>сотрудник</td>\n",
       "      <td>0</td>\n",
       "      <td>116820.904450</td>\n",
       "      <td>строительство собственной недвижимости</td>\n",
       "    </tr>\n",
       "    <tr>\n",
       "      <th>16</th>\n",
       "      <td>0</td>\n",
       "      <td>-1719.934226</td>\n",
       "      <td>35</td>\n",
       "      <td>среднее</td>\n",
       "      <td>1</td>\n",
       "      <td>женат / замужем</td>\n",
       "      <td>0</td>\n",
       "      <td>F</td>\n",
       "      <td>сотрудник</td>\n",
       "      <td>0</td>\n",
       "      <td>289202.704229</td>\n",
       "      <td>недвижимость</td>\n",
       "    </tr>\n",
       "    <tr>\n",
       "      <th>17</th>\n",
       "      <td>0</td>\n",
       "      <td>-2369.999720</td>\n",
       "      <td>33</td>\n",
       "      <td>высшее</td>\n",
       "      <td>0</td>\n",
       "      <td>гражданский брак</td>\n",
       "      <td>1</td>\n",
       "      <td>M</td>\n",
       "      <td>сотрудник</td>\n",
       "      <td>0</td>\n",
       "      <td>90410.586745</td>\n",
       "      <td>строительство недвижимости</td>\n",
       "    </tr>\n",
       "    <tr>\n",
       "      <th>18</th>\n",
       "      <td>0</td>\n",
       "      <td>400281.136913</td>\n",
       "      <td>53</td>\n",
       "      <td>среднее</td>\n",
       "      <td>1</td>\n",
       "      <td>вдовец / вдова</td>\n",
       "      <td>2</td>\n",
       "      <td>F</td>\n",
       "      <td>пенсионер</td>\n",
       "      <td>0</td>\n",
       "      <td>56823.777243</td>\n",
       "      <td>на покупку подержанного автомобиля</td>\n",
       "    </tr>\n",
       "    <tr>\n",
       "      <th>19</th>\n",
       "      <td>0</td>\n",
       "      <td>-10038.818549</td>\n",
       "      <td>48</td>\n",
       "      <td>СРЕДНЕЕ</td>\n",
       "      <td>1</td>\n",
       "      <td>в разводе</td>\n",
       "      <td>3</td>\n",
       "      <td>F</td>\n",
       "      <td>сотрудник</td>\n",
       "      <td>0</td>\n",
       "      <td>242831.107982</td>\n",
       "      <td>на покупку своего автомобиля</td>\n",
       "    </tr>\n",
       "  </tbody>\n",
       "</table>\n",
       "</div>"
      ],
      "text/plain": [
       "    children  days_employed  dob_years            education  education_id  \\\n",
       "0          1   -8437.673028         42               высшее             0   \n",
       "1          1   -4024.803754         36              среднее             1   \n",
       "2          0   -5623.422610         33              Среднее             1   \n",
       "3          3   -4124.747207         32              среднее             1   \n",
       "4          0  340266.072047         53              среднее             1   \n",
       "5          0    -926.185831         27               высшее             0   \n",
       "6          0   -2879.202052         43               высшее             0   \n",
       "7          0    -152.779569         50              СРЕДНЕЕ             1   \n",
       "8          2   -6929.865299         35               ВЫСШЕЕ             0   \n",
       "9          0   -2188.756445         41              среднее             1   \n",
       "10         2   -4171.483647         36               высшее             0   \n",
       "11         0    -792.701887         40              среднее             1   \n",
       "12         0            NaN         65              среднее             1   \n",
       "13         0   -1846.641941         54  неоконченное высшее             2   \n",
       "14         0   -1844.956182         56               высшее             0   \n",
       "15         1    -972.364419         26              среднее             1   \n",
       "16         0   -1719.934226         35              среднее             1   \n",
       "17         0   -2369.999720         33               высшее             0   \n",
       "18         0  400281.136913         53              среднее             1   \n",
       "19         0  -10038.818549         48              СРЕДНЕЕ             1   \n",
       "\n",
       "       family_status  family_status_id gender income_type  debt  \\\n",
       "0    женат / замужем                 0      F   сотрудник     0   \n",
       "1    женат / замужем                 0      F   сотрудник     0   \n",
       "2    женат / замужем                 0      M   сотрудник     0   \n",
       "3    женат / замужем                 0      M   сотрудник     0   \n",
       "4   гражданский брак                 1      F   пенсионер     0   \n",
       "5   гражданский брак                 1      M   компаньон     0   \n",
       "6    женат / замужем                 0      F   компаньон     0   \n",
       "7    женат / замужем                 0      M   сотрудник     0   \n",
       "8   гражданский брак                 1      F   сотрудник     0   \n",
       "9    женат / замужем                 0      M   сотрудник     0   \n",
       "10   женат / замужем                 0      M   компаньон     0   \n",
       "11   женат / замужем                 0      F   сотрудник     0   \n",
       "12  гражданский брак                 1      M   пенсионер     0   \n",
       "13   женат / замужем                 0      F   сотрудник     0   \n",
       "14  гражданский брак                 1      F   компаньон     1   \n",
       "15   женат / замужем                 0      F   сотрудник     0   \n",
       "16   женат / замужем                 0      F   сотрудник     0   \n",
       "17  гражданский брак                 1      M   сотрудник     0   \n",
       "18    вдовец / вдова                 2      F   пенсионер     0   \n",
       "19         в разводе                 3      F   сотрудник     0   \n",
       "\n",
       "     total_income                                 purpose  \n",
       "0   253875.639453                           покупка жилья  \n",
       "1   112080.014102                 приобретение автомобиля  \n",
       "2   145885.952297                           покупка жилья  \n",
       "3   267628.550329              дополнительное образование  \n",
       "4   158616.077870                         сыграть свадьбу  \n",
       "5   255763.565419                           покупка жилья  \n",
       "6   240525.971920                       операции с жильем  \n",
       "7   135823.934197                             образование  \n",
       "8    95856.832424                   на проведение свадьбы  \n",
       "9   144425.938277                 покупка жилья для семьи  \n",
       "10  113943.491460                    покупка недвижимости  \n",
       "11   77069.234271       покупка коммерческой недвижимости  \n",
       "12            NaN                         сыграть свадьбу  \n",
       "13  130458.228857                 приобретение автомобиля  \n",
       "14  165127.911772              покупка жилой недвижимости  \n",
       "15  116820.904450  строительство собственной недвижимости  \n",
       "16  289202.704229                            недвижимость  \n",
       "17   90410.586745              строительство недвижимости  \n",
       "18   56823.777243      на покупку подержанного автомобиля  \n",
       "19  242831.107982            на покупку своего автомобиля  "
      ]
     },
     "execution_count": 2,
     "metadata": {},
     "output_type": "execute_result"
    }
   ],
   "source": [
    "data.head(20)"
   ]
  },
  {
   "cell_type": "markdown",
   "id": "abc8bcc4",
   "metadata": {
    "deletable": false,
    "editable": false,
    "id": "1c12e233"
   },
   "source": [
    "**Задание 3. Выведите основную информацию о датафрейме с помощью метода `info()`.**"
   ]
  },
  {
   "cell_type": "code",
   "execution_count": 3,
   "id": "ab95b8bc",
   "metadata": {
    "deletable": false,
    "id": "2b757bca",
    "outputId": "15376089-8dad-46c9-b520-c05248d43158"
   },
   "outputs": [
    {
     "name": "stdout",
     "output_type": "stream",
     "text": [
      "<class 'pandas.core.frame.DataFrame'>\n",
      "RangeIndex: 21525 entries, 0 to 21524\n",
      "Data columns (total 12 columns):\n",
      " #   Column            Non-Null Count  Dtype  \n",
      "---  ------            --------------  -----  \n",
      " 0   children          21525 non-null  int64  \n",
      " 1   days_employed     19351 non-null  float64\n",
      " 2   dob_years         21525 non-null  int64  \n",
      " 3   education         21525 non-null  object \n",
      " 4   education_id      21525 non-null  int64  \n",
      " 5   family_status     21525 non-null  object \n",
      " 6   family_status_id  21525 non-null  int64  \n",
      " 7   gender            21525 non-null  object \n",
      " 8   income_type       21525 non-null  object \n",
      " 9   debt              21525 non-null  int64  \n",
      " 10  total_income      19351 non-null  float64\n",
      " 11  purpose           21525 non-null  object \n",
      "dtypes: float64(2), int64(5), object(5)\n",
      "memory usage: 2.0+ MB\n"
     ]
    }
   ],
   "source": [
    "data.info()"
   ]
  },
  {
   "cell_type": "markdown",
   "id": "5c38b6f7",
   "metadata": {
    "deletable": false,
    "editable": false,
    "id": "333ec665"
   },
   "source": [
    "## Предобработка данных"
   ]
  },
  {
   "cell_type": "markdown",
   "id": "763f9376",
   "metadata": {
    "deletable": false,
    "editable": false,
    "id": "02d92d53"
   },
   "source": [
    "### Удаление пропусков"
   ]
  },
  {
   "cell_type": "markdown",
   "id": "00281b8b",
   "metadata": {
    "deletable": false,
    "editable": false,
    "id": "cd84967c"
   },
   "source": [
    "**Задание 4. Выведите количество пропущенных значений для каждого столбца. Используйте комбинацию двух методов.**"
   ]
  },
  {
   "cell_type": "code",
   "execution_count": 4,
   "id": "5bad3184",
   "metadata": {
    "deletable": false,
    "id": "7f9b2309",
    "outputId": "81f4d817-781c-465c-ed15-91ce4446810d"
   },
   "outputs": [
    {
     "data": {
      "text/plain": [
       "children               0\n",
       "days_employed       2174\n",
       "dob_years              0\n",
       "education              0\n",
       "education_id           0\n",
       "family_status          0\n",
       "family_status_id       0\n",
       "gender                 0\n",
       "income_type            0\n",
       "debt                   0\n",
       "total_income        2174\n",
       "purpose                0\n",
       "dtype: int64"
      ]
     },
     "execution_count": 4,
     "metadata": {},
     "output_type": "execute_result"
    }
   ],
   "source": [
    "data.isna().sum()"
   ]
  },
  {
   "cell_type": "markdown",
   "id": "b5e954c5",
   "metadata": {
    "deletable": false,
    "editable": false,
    "id": "db86e27b"
   },
   "source": [
    "**Задание 5. В двух столбцах есть пропущенные значения. Один из них — `days_employed`. Пропуски в этом столбце вы обработаете на следующем этапе. Другой столбец с пропущенными значениями — `total_income` — хранит данные о доходах. На сумму дохода сильнее всего влияет тип занятости, поэтому заполнить пропуски в этом столбце нужно медианным значением по каждому типу из столбца `income_type`. Например, у человека с типом занятости `сотрудник` пропуск в столбце `total_income` должен быть заполнен медианным доходом среди всех записей с тем же типом.**"
   ]
  },
  {
   "cell_type": "code",
   "execution_count": 5,
   "id": "d78698ce",
   "metadata": {
    "deletable": false,
    "id": "42006a93"
   },
   "outputs": [],
   "source": [
    "for t in data['income_type'].unique():\n",
    "    data.loc[(data['income_type'] == t) & (data['total_income'].isna()), 'total_income'] = \\\n",
    "    data.loc[(data['income_type'] == t), 'total_income'].median()"
   ]
  },
  {
   "cell_type": "markdown",
   "id": "6403d2d9",
   "metadata": {
    "deletable": false,
    "editable": false,
    "id": "89da5ece"
   },
   "source": [
    "### Обработка аномальных значений"
   ]
  },
  {
   "cell_type": "markdown",
   "id": "019f5b41",
   "metadata": {
    "deletable": false,
    "editable": false,
    "id": "57964554"
   },
   "source": [
    "**Задание 6. В данных могут встречаться артефакты (аномалии) — значения, которые не отражают действительность и появились по какой-то ошибке. таким артефактом будет отрицательное количество дней трудового стажа в столбце `days_employed`. Для реальных данных это нормально. Обработайте значения в этом столбце: замените все отрицательные значения положительными с помощью метода `abs()`.**"
   ]
  },
  {
   "cell_type": "code",
   "execution_count": 6,
   "id": "e8c042bd",
   "metadata": {
    "deletable": false,
    "id": "f6f055bf"
   },
   "outputs": [],
   "source": [
    "data['days_employed'] = data['days_employed'].abs()"
   ]
  },
  {
   "cell_type": "markdown",
   "id": "92ed70cd",
   "metadata": {
    "deletable": false,
    "editable": false,
    "id": "6107dd2f"
   },
   "source": [
    "**Задание 7. Для каждого типа занятости выведите медианное значение трудового стажа `days_employed` в днях.**"
   ]
  },
  {
   "cell_type": "code",
   "execution_count": 7,
   "id": "ebc429c3",
   "metadata": {
    "deletable": false,
    "id": "85a5faf6",
    "outputId": "801ef80e-522b-4668-f34e-565af7432bcf"
   },
   "outputs": [
    {
     "data": {
      "text/plain": [
       "income_type\n",
       "безработный        366413.652744\n",
       "в декрете            3296.759962\n",
       "госслужащий          2689.368353\n",
       "компаньон            1547.382223\n",
       "пенсионер          365213.306266\n",
       "предприниматель       520.848083\n",
       "сотрудник            1574.202821\n",
       "студент               578.751554\n",
       "Name: days_employed, dtype: float64"
      ]
     },
     "execution_count": 7,
     "metadata": {},
     "output_type": "execute_result"
    }
   ],
   "source": [
    "data.groupby('income_type')['days_employed'].agg('median')"
   ]
  },
  {
   "cell_type": "markdown",
   "id": "e5407b1e",
   "metadata": {
    "deletable": false,
    "editable": false,
    "id": "38d1a030"
   },
   "source": [
    "У двух типов (безработные и пенсионеры) получатся аномально большие значения. Исправить такие значения сложно, поэтому оставьте их как есть. Тем более этот столбец не понадобится вам для исследования."
   ]
  },
  {
   "cell_type": "markdown",
   "id": "d9d728d0",
   "metadata": {
    "deletable": false,
    "editable": false,
    "id": "d8a9f147"
   },
   "source": [
    "**Задание 8. Выведите перечень уникальных значений столбца `children`.**"
   ]
  },
  {
   "cell_type": "code",
   "execution_count": 8,
   "id": "fd1828ab",
   "metadata": {
    "deletable": false,
    "id": "ef5056eb",
    "outputId": "6975b15c-7f95-4697-d16d-a0c79b657b03"
   },
   "outputs": [
    {
     "data": {
      "text/plain": [
       "array([ 1,  0,  3,  2, -1,  4, 20,  5])"
      ]
     },
     "execution_count": 8,
     "metadata": {},
     "output_type": "execute_result"
    }
   ],
   "source": [
    "data['children'].unique()"
   ]
  },
  {
   "cell_type": "markdown",
   "id": "9bde2fbc",
   "metadata": {
    "deletable": false,
    "editable": false,
    "id": "40b9ebf2"
   },
   "source": [
    "**Задание 9. В столбце `children` есть два аномальных значения. Удалите строки, в которых встречаются такие аномальные значения из датафрейма `data`.**"
   ]
  },
  {
   "cell_type": "code",
   "execution_count": 9,
   "id": "99583ca2",
   "metadata": {
    "deletable": false,
    "id": "3ff9801d"
   },
   "outputs": [],
   "source": [
    "data = data[(data['children'] != -1) & (data['children'] != 20)]"
   ]
  },
  {
   "cell_type": "markdown",
   "id": "cc514be4",
   "metadata": {
    "deletable": false,
    "editable": false,
    "id": "bbc4d0ce"
   },
   "source": [
    "**Задание 10. Ещё раз выведите перечень уникальных значений столбца `children`, чтобы убедиться, что артефакты удалены.**"
   ]
  },
  {
   "cell_type": "code",
   "execution_count": 10,
   "id": "5e16caf2",
   "metadata": {
    "deletable": false,
    "id": "ad4fa8b7",
    "outputId": "b2097101-d49d-44d9-901b-32a65c9463d1"
   },
   "outputs": [
    {
     "data": {
      "text/plain": [
       "array([1, 0, 3, 2, 4, 5])"
      ]
     },
     "execution_count": 10,
     "metadata": {},
     "output_type": "execute_result"
    }
   ],
   "source": [
    "data['children'].unique()"
   ]
  },
  {
   "cell_type": "markdown",
   "id": "a4b9e417",
   "metadata": {
    "deletable": false,
    "editable": false,
    "id": "75440b63"
   },
   "source": [
    "### Удаление пропусков (продолжение)"
   ]
  },
  {
   "cell_type": "markdown",
   "id": "7273da5a",
   "metadata": {
    "deletable": false,
    "editable": false,
    "id": "f4ea573f"
   },
   "source": [
    "**Задание 11. Заполните пропуски в столбце `days_employed` медианными значениями по каждого типа занятости `income_type`.**"
   ]
  },
  {
   "cell_type": "code",
   "execution_count": 11,
   "id": "2e1bb2f1",
   "metadata": {
    "deletable": false,
    "id": "af6b1a7e"
   },
   "outputs": [],
   "source": [
    "for t in data['income_type'].unique():\n",
    "    data.loc[(data['income_type'] == t) & (data['days_employed'].isna()), 'days_employed'] = \\\n",
    "    data.loc[(data['income_type'] == t), 'days_employed'].median()"
   ]
  },
  {
   "cell_type": "markdown",
   "id": "5cac7dec",
   "metadata": {
    "deletable": false,
    "editable": false,
    "id": "2753f40d"
   },
   "source": [
    "**Задание 12. Убедитесь, что все пропуски заполнены. Проверьте себя и ещё раз выведите количество пропущенных значений для каждого столбца с помощью двух методов.**"
   ]
  },
  {
   "cell_type": "code",
   "execution_count": 12,
   "id": "6f0fee89",
   "metadata": {
    "deletable": false,
    "id": "55f78bc2",
    "outputId": "8da1e4e1-358e-4e87-98c9-f261bce0a7b2"
   },
   "outputs": [
    {
     "data": {
      "text/plain": [
       "children            0\n",
       "days_employed       0\n",
       "dob_years           0\n",
       "education           0\n",
       "education_id        0\n",
       "family_status       0\n",
       "family_status_id    0\n",
       "gender              0\n",
       "income_type         0\n",
       "debt                0\n",
       "total_income        0\n",
       "purpose             0\n",
       "dtype: int64"
      ]
     },
     "execution_count": 12,
     "metadata": {},
     "output_type": "execute_result"
    }
   ],
   "source": [
    "data.isna().sum()"
   ]
  },
  {
   "cell_type": "markdown",
   "id": "2a04d1d9",
   "metadata": {
    "deletable": false,
    "editable": false,
    "id": "ddc81e43"
   },
   "source": [
    "### Изменение типов данных"
   ]
  },
  {
   "cell_type": "markdown",
   "id": "81027353",
   "metadata": {
    "deletable": false,
    "editable": false,
    "id": "42d19d24"
   },
   "source": [
    "**Задание 13. Замените вещественный тип данных в столбце `total_income` на целочисленный с помощью метода `astype()`.**"
   ]
  },
  {
   "cell_type": "code",
   "execution_count": 13,
   "id": "1b13ce31",
   "metadata": {
    "deletable": false,
    "id": "920b65ad"
   },
   "outputs": [],
   "source": [
    "data['total_income'] = data['total_income'].astype(int)"
   ]
  },
  {
   "cell_type": "markdown",
   "id": "54768980",
   "metadata": {
    "deletable": false,
    "editable": false,
    "id": "80c420ba"
   },
   "source": [
    "### Обработка дубликатов"
   ]
  },
  {
   "cell_type": "markdown",
   "id": "0385318e",
   "metadata": {
    "deletable": false,
    "editable": false
   },
   "source": [
    "**Задание 14. Обработайте неявные дубликаты в столбце `education`. В этом столбце есть одни и те же значения, но записанные по-разному: с использованием заглавных и строчных букв. Приведите их к нижнему регистру. Проверьте остальные столбцы.**"
   ]
  },
  {
   "cell_type": "code",
   "execution_count": 14,
   "id": "94a001b5",
   "metadata": {
    "deletable": false
   },
   "outputs": [],
   "source": [
    "data['education'] = data['education'].str.lower()"
   ]
  },
  {
   "cell_type": "markdown",
   "id": "4be02422",
   "metadata": {
    "deletable": false,
    "editable": false,
    "id": "dc587695"
   },
   "source": [
    "**Задание 15. Выведите на экран количество строк-дубликатов в данных. Если такие строки присутствуют, удалите их.**"
   ]
  },
  {
   "cell_type": "code",
   "execution_count": 15,
   "id": "512855be",
   "metadata": {
    "deletable": false,
    "id": "3ee445e4",
    "outputId": "9684deba-1934-42d1-99e1-cda61740f822"
   },
   "outputs": [
    {
     "data": {
      "text/plain": [
       "71"
      ]
     },
     "execution_count": 15,
     "metadata": {},
     "output_type": "execute_result"
    }
   ],
   "source": [
    "data.duplicated().sum()"
   ]
  },
  {
   "cell_type": "code",
   "execution_count": 16,
   "id": "0e736aae",
   "metadata": {
    "deletable": false,
    "id": "8575fe05"
   },
   "outputs": [],
   "source": [
    "data = data.drop_duplicates()"
   ]
  },
  {
   "cell_type": "markdown",
   "id": "05c1b30a",
   "metadata": {
    "deletable": false,
    "editable": false,
    "id": "9904cf55"
   },
   "source": [
    "### Категоризация данных"
   ]
  },
  {
   "cell_type": "markdown",
   "id": "2af68623",
   "metadata": {
    "deletable": false,
    "editable": false,
    "id": "72fcc8a2"
   },
   "source": [
    "**Задание 16. На основании диапазонов, указанных ниже, создайте в датафрейме `data` столбец `total_income_category` с категориями:**\n",
    "\n",
    "- 0–30000 — `'E'`;\n",
    "- 30001–50000 — `'D'`;\n",
    "- 50001–200000 — `'C'`;\n",
    "- 200001–1000000 — `'B'`;\n",
    "- 1000001 и выше — `'A'`.\n",
    "\n",
    "\n",
    "**Например, кредитополучателю с доходом 25000 нужно назначить категорию `'E'`, а клиенту, получающему 235000, — `'B'`. Используйте собственную функцию с именем `categorize_income()` и метод `apply()`.**"
   ]
  },
  {
   "cell_type": "code",
   "execution_count": 17,
   "id": "f2940f30",
   "metadata": {
    "deletable": false,
    "id": "e1771346"
   },
   "outputs": [],
   "source": [
    "def categorize_income(income):\n",
    "    try:\n",
    "        if 0 <= income <= 30000:\n",
    "            return 'E'\n",
    "        elif 30001 <= income <= 50000:\n",
    "            return 'D'\n",
    "        elif 50001 <= income <= 200000:\n",
    "            return 'C'\n",
    "        elif 200001 <= income <= 1000000:\n",
    "            return 'B'\n",
    "        elif income >= 1000001:\n",
    "            return 'A'\n",
    "    except:\n",
    "        pass"
   ]
  },
  {
   "cell_type": "code",
   "execution_count": 18,
   "id": "488833b6",
   "metadata": {
    "deletable": false,
    "id": "d5f3586d"
   },
   "outputs": [],
   "source": [
    "data['total_income_category'] = data['total_income'].apply(categorize_income)"
   ]
  },
  {
   "cell_type": "markdown",
   "id": "cdca46fc",
   "metadata": {
    "deletable": false,
    "editable": false,
    "id": "dde49b5c"
   },
   "source": [
    "**Задание 17. Выведите на экран перечень уникальных целей взятия кредита из столбца `purpose`.**"
   ]
  },
  {
   "cell_type": "code",
   "execution_count": 19,
   "id": "fe7bc57b",
   "metadata": {
    "deletable": false,
    "id": "f67ce9b3",
    "outputId": "673c12d9-7d7e-4ae0-9812-c622c89dd244"
   },
   "outputs": [
    {
     "data": {
      "text/plain": [
       "array(['покупка жилья', 'приобретение автомобиля',\n",
       "       'дополнительное образование', 'сыграть свадьбу',\n",
       "       'операции с жильем', 'образование', 'на проведение свадьбы',\n",
       "       'покупка жилья для семьи', 'покупка недвижимости',\n",
       "       'покупка коммерческой недвижимости', 'покупка жилой недвижимости',\n",
       "       'строительство собственной недвижимости', 'недвижимость',\n",
       "       'строительство недвижимости', 'на покупку подержанного автомобиля',\n",
       "       'на покупку своего автомобиля',\n",
       "       'операции с коммерческой недвижимостью',\n",
       "       'строительство жилой недвижимости', 'жилье',\n",
       "       'операции со своей недвижимостью', 'автомобили',\n",
       "       'заняться образованием', 'сделка с подержанным автомобилем',\n",
       "       'получение образования', 'автомобиль', 'свадьба',\n",
       "       'получение дополнительного образования', 'покупка своего жилья',\n",
       "       'операции с недвижимостью', 'получение высшего образования',\n",
       "       'свой автомобиль', 'сделка с автомобилем',\n",
       "       'профильное образование', 'высшее образование',\n",
       "       'покупка жилья для сдачи', 'на покупку автомобиля', 'ремонт жилью',\n",
       "       'заняться высшим образованием'], dtype=object)"
      ]
     },
     "execution_count": 19,
     "metadata": {},
     "output_type": "execute_result"
    }
   ],
   "source": [
    "data['purpose'].unique()"
   ]
  },
  {
   "cell_type": "markdown",
   "id": "875d4f05",
   "metadata": {
    "deletable": false,
    "editable": false,
    "id": "85d0aef0"
   },
   "source": [
    "**Задание 18. Создайте функцию, которая на основании данных из столбца `purpose` сформирует новый столбец `purpose_category`, в который войдут следующие категории:**\n",
    "\n",
    "- `'операции с автомобилем'`,\n",
    "- `'операции с недвижимостью'`,\n",
    "- `'проведение свадьбы'`,\n",
    "- `'получение образования'`.\n",
    "\n",
    "**Например, если в столбце `purpose` находится подстрока `'на покупку автомобиля'`, то в столбце `purpose_category` должна появиться строка `'операции с автомобилем'`.**\n",
    "\n",
    "**Используйте собственную функцию с именем `categorize_purpose()` и метод `apply()`. Изучите данные в столбце `purpose` и определите, какие подстроки помогут вам правильно определить категорию.**"
   ]
  },
  {
   "cell_type": "code",
   "execution_count": 20,
   "id": "8d8defe8",
   "metadata": {
    "deletable": false,
    "id": "e149fab4"
   },
   "outputs": [],
   "source": [
    "def categorize_purpose(row):\n",
    "    try:\n",
    "        if 'автом' in row:\n",
    "            return 'операции с автомобилем'\n",
    "        elif 'жил' in row or 'недвиж' in row:\n",
    "            return 'операции с недвижимостью'\n",
    "        elif 'свад' in row:\n",
    "            return 'проведение свадьбы'\n",
    "        elif 'образов' in row:\n",
    "            return 'получение образования'\n",
    "    except:\n",
    "        return 'нет категории'"
   ]
  },
  {
   "cell_type": "code",
   "execution_count": 21,
   "id": "5400c2d2",
   "metadata": {
    "deletable": false,
    "id": "bf36e69b"
   },
   "outputs": [],
   "source": [
    "data['purpose_category'] = data['purpose'].apply(categorize_purpose)"
   ]
  },
  {
   "cell_type": "markdown",
   "id": "28f56fb9",
   "metadata": {
    "deletable": false,
    "editable": false,
    "id": "09b242bf"
   },
   "source": [
    "### Шаг 3. Исследуйте данные и ответьте на вопросы"
   ]
  },
  {
   "cell_type": "markdown",
   "id": "c76d662c",
   "metadata": {
    "deletable": false,
    "editable": false,
    "id": "c5d66278"
   },
   "source": [
    "#### 3.1 Есть ли зависимость между количеством детей и возвратом кредита в срок?"
   ]
  },
  {
   "cell_type": "code",
   "execution_count": 29,
   "id": "094c81ce",
   "metadata": {
    "deletable": false,
    "id": "2cacfc4a"
   },
   "outputs": [
    {
     "data": {
      "text/html": [
       "<div>\n",
       "<style scoped>\n",
       "    .dataframe tbody tr th:only-of-type {\n",
       "        vertical-align: middle;\n",
       "    }\n",
       "\n",
       "    .dataframe tbody tr th {\n",
       "        vertical-align: top;\n",
       "    }\n",
       "\n",
       "    .dataframe thead tr th {\n",
       "        text-align: left;\n",
       "    }\n",
       "\n",
       "    .dataframe thead tr:last-of-type th {\n",
       "        text-align: right;\n",
       "    }\n",
       "</style>\n",
       "<table border=\"1\" class=\"dataframe\">\n",
       "  <thead>\n",
       "    <tr>\n",
       "      <th></th>\n",
       "      <th>count</th>\n",
       "      <th>sum</th>\n",
       "      <th>mean</th>\n",
       "    </tr>\n",
       "    <tr>\n",
       "      <th></th>\n",
       "      <th>debt</th>\n",
       "      <th>debt</th>\n",
       "      <th>debt</th>\n",
       "    </tr>\n",
       "    <tr>\n",
       "      <th>children</th>\n",
       "      <th></th>\n",
       "      <th></th>\n",
       "      <th></th>\n",
       "    </tr>\n",
       "  </thead>\n",
       "  <tbody>\n",
       "    <tr>\n",
       "      <th>0</th>\n",
       "      <td>14091</td>\n",
       "      <td>1063</td>\n",
       "      <td>0.075438</td>\n",
       "    </tr>\n",
       "    <tr>\n",
       "      <th>1</th>\n",
       "      <td>4808</td>\n",
       "      <td>444</td>\n",
       "      <td>0.092346</td>\n",
       "    </tr>\n",
       "    <tr>\n",
       "      <th>2</th>\n",
       "      <td>2052</td>\n",
       "      <td>194</td>\n",
       "      <td>0.094542</td>\n",
       "    </tr>\n",
       "    <tr>\n",
       "      <th>3</th>\n",
       "      <td>330</td>\n",
       "      <td>27</td>\n",
       "      <td>0.081818</td>\n",
       "    </tr>\n",
       "    <tr>\n",
       "      <th>4</th>\n",
       "      <td>41</td>\n",
       "      <td>4</td>\n",
       "      <td>0.097561</td>\n",
       "    </tr>\n",
       "    <tr>\n",
       "      <th>5</th>\n",
       "      <td>9</td>\n",
       "      <td>0</td>\n",
       "      <td>0.000000</td>\n",
       "    </tr>\n",
       "  </tbody>\n",
       "</table>\n",
       "</div>"
      ],
      "text/plain": [
       "          count   sum      mean\n",
       "           debt  debt      debt\n",
       "children                       \n",
       "0         14091  1063  0.075438\n",
       "1          4808   444  0.092346\n",
       "2          2052   194  0.094542\n",
       "3           330    27  0.081818\n",
       "4            41     4  0.097561\n",
       "5             9     0  0.000000"
      ]
     },
     "execution_count": 29,
     "metadata": {},
     "output_type": "execute_result"
    }
   ],
   "source": [
    "data_pivot = data.pivot_table(index=['children'], values = 'debt', aggfunc=['count', 'sum', 'mean'])\n",
    "data_pivot"
   ]
  },
  {
   "cell_type": "code",
   "execution_count": 23,
   "id": "bdcdd696",
   "metadata": {},
   "outputs": [
    {
     "data": {
      "text/html": [
       "<div>\n",
       "<style scoped>\n",
       "    .dataframe tbody tr th:only-of-type {\n",
       "        vertical-align: middle;\n",
       "    }\n",
       "\n",
       "    .dataframe tbody tr th {\n",
       "        vertical-align: top;\n",
       "    }\n",
       "\n",
       "    .dataframe thead tr th {\n",
       "        text-align: left;\n",
       "    }\n",
       "\n",
       "    .dataframe thead tr:last-of-type th {\n",
       "        text-align: right;\n",
       "    }\n",
       "</style>\n",
       "<table border=\"1\" class=\"dataframe\">\n",
       "  <thead>\n",
       "    <tr>\n",
       "      <th></th>\n",
       "      <th>count</th>\n",
       "      <th>sum</th>\n",
       "      <th>mean</th>\n",
       "    </tr>\n",
       "    <tr>\n",
       "      <th></th>\n",
       "      <th>debt</th>\n",
       "      <th>debt</th>\n",
       "      <th>debt</th>\n",
       "    </tr>\n",
       "    <tr>\n",
       "      <th>children</th>\n",
       "      <th></th>\n",
       "      <th></th>\n",
       "      <th></th>\n",
       "    </tr>\n",
       "  </thead>\n",
       "  <tbody>\n",
       "    <tr>\n",
       "      <th>0</th>\n",
       "      <td>14091</td>\n",
       "      <td>1063</td>\n",
       "      <td>0.075438</td>\n",
       "    </tr>\n",
       "    <tr>\n",
       "      <th>1</th>\n",
       "      <td>4808</td>\n",
       "      <td>444</td>\n",
       "      <td>0.092346</td>\n",
       "    </tr>\n",
       "    <tr>\n",
       "      <th>2</th>\n",
       "      <td>2052</td>\n",
       "      <td>194</td>\n",
       "      <td>0.094542</td>\n",
       "    </tr>\n",
       "    <tr>\n",
       "      <th>3</th>\n",
       "      <td>330</td>\n",
       "      <td>27</td>\n",
       "      <td>0.081818</td>\n",
       "    </tr>\n",
       "    <tr>\n",
       "      <th>4</th>\n",
       "      <td>41</td>\n",
       "      <td>4</td>\n",
       "      <td>0.097561</td>\n",
       "    </tr>\n",
       "    <tr>\n",
       "      <th>5</th>\n",
       "      <td>9</td>\n",
       "      <td>0</td>\n",
       "      <td>0.000000</td>\n",
       "    </tr>\n",
       "  </tbody>\n",
       "</table>\n",
       "</div>"
      ],
      "text/plain": [
       "          count   sum      mean\n",
       "           debt  debt      debt\n",
       "children                       \n",
       "0         14091  1063  0.075438\n",
       "1          4808   444  0.092346\n",
       "2          2052   194  0.094542\n",
       "3           330    27  0.081818\n",
       "4            41     4  0.097561\n",
       "5             9     0  0.000000"
      ]
     },
     "execution_count": 23,
     "metadata": {},
     "output_type": "execute_result"
    }
   ],
   "source": [
    "data.pivot_table(index=['children'], values = 'debt', aggfunc=['count', 'sum', 'mean'])"
   ]
  },
  {
   "cell_type": "markdown",
   "id": "98632b68",
   "metadata": {
    "deletable": false,
    "id": "3a6b99ec"
   },
   "source": [
    "**Вывод:** \n",
    "Чем больше детей тем выше шанс на просрочку"
   ]
  },
  {
   "cell_type": "markdown",
   "id": "b06f9f6e",
   "metadata": {
    "deletable": false,
    "editable": false,
    "id": "97be82ca"
   },
   "source": [
    "#### 3.2 Есть ли зависимость между семейным положением и возвратом кредита в срок?"
   ]
  },
  {
   "cell_type": "code",
   "execution_count": 31,
   "id": "43d266ca",
   "metadata": {
    "deletable": false,
    "id": "dc3f7ee8"
   },
   "outputs": [
    {
     "data": {
      "text/html": [
       "<div>\n",
       "<style scoped>\n",
       "    .dataframe tbody tr th:only-of-type {\n",
       "        vertical-align: middle;\n",
       "    }\n",
       "\n",
       "    .dataframe tbody tr th {\n",
       "        vertical-align: top;\n",
       "    }\n",
       "\n",
       "    .dataframe thead tr th {\n",
       "        text-align: left;\n",
       "    }\n",
       "\n",
       "    .dataframe thead tr:last-of-type th {\n",
       "        text-align: right;\n",
       "    }\n",
       "</style>\n",
       "<table border=\"1\" class=\"dataframe\">\n",
       "  <thead>\n",
       "    <tr>\n",
       "      <th></th>\n",
       "      <th>count</th>\n",
       "      <th>sum</th>\n",
       "      <th>mean</th>\n",
       "    </tr>\n",
       "    <tr>\n",
       "      <th></th>\n",
       "      <th>debt</th>\n",
       "      <th>debt</th>\n",
       "      <th>debt</th>\n",
       "    </tr>\n",
       "    <tr>\n",
       "      <th>family_status</th>\n",
       "      <th></th>\n",
       "      <th></th>\n",
       "      <th></th>\n",
       "    </tr>\n",
       "  </thead>\n",
       "  <tbody>\n",
       "    <tr>\n",
       "      <th>Не женат / не замужем</th>\n",
       "      <td>2796</td>\n",
       "      <td>273</td>\n",
       "      <td>0.097639</td>\n",
       "    </tr>\n",
       "    <tr>\n",
       "      <th>в разводе</th>\n",
       "      <td>1189</td>\n",
       "      <td>84</td>\n",
       "      <td>0.070648</td>\n",
       "    </tr>\n",
       "    <tr>\n",
       "      <th>вдовец / вдова</th>\n",
       "      <td>951</td>\n",
       "      <td>63</td>\n",
       "      <td>0.066246</td>\n",
       "    </tr>\n",
       "    <tr>\n",
       "      <th>гражданский брак</th>\n",
       "      <td>4134</td>\n",
       "      <td>385</td>\n",
       "      <td>0.093130</td>\n",
       "    </tr>\n",
       "    <tr>\n",
       "      <th>женат / замужем</th>\n",
       "      <td>12261</td>\n",
       "      <td>927</td>\n",
       "      <td>0.075606</td>\n",
       "    </tr>\n",
       "  </tbody>\n",
       "</table>\n",
       "</div>"
      ],
      "text/plain": [
       "                       count  sum      mean\n",
       "                        debt debt      debt\n",
       "family_status                              \n",
       "Не женат / не замужем   2796  273  0.097639\n",
       "в разводе               1189   84  0.070648\n",
       "вдовец / вдова           951   63  0.066246\n",
       "гражданский брак        4134  385  0.093130\n",
       "женат / замужем        12261  927  0.075606"
      ]
     },
     "execution_count": 31,
     "metadata": {},
     "output_type": "execute_result"
    }
   ],
   "source": [
    "data_pivot = data.pivot_table(index=['family_status'], values = 'debt', aggfunc=['count', 'sum', 'mean'])\n",
    "data_pivot"
   ]
  },
  {
   "cell_type": "markdown",
   "id": "58befb78",
   "metadata": {
    "deletable": false,
    "id": "1cef7837"
   },
   "source": [
    "**Вывод:**  \n",
    "Люди, которые никогда не были женаты или находятся в гражданском браке реже выплачивают кредит вовремя "
   ]
  },
  {
   "cell_type": "markdown",
   "id": "16a06749",
   "metadata": {
    "deletable": false,
    "editable": false,
    "id": "1e8b2fca"
   },
   "source": [
    "#### 3.3 Есть ли зависимость между уровнем дохода и возвратом кредита в срок?"
   ]
  },
  {
   "cell_type": "code",
   "execution_count": 32,
   "id": "ed31cc23",
   "metadata": {
    "deletable": false,
    "id": "cd7e3720"
   },
   "outputs": [
    {
     "data": {
      "text/html": [
       "<div>\n",
       "<style scoped>\n",
       "    .dataframe tbody tr th:only-of-type {\n",
       "        vertical-align: middle;\n",
       "    }\n",
       "\n",
       "    .dataframe tbody tr th {\n",
       "        vertical-align: top;\n",
       "    }\n",
       "\n",
       "    .dataframe thead tr th {\n",
       "        text-align: left;\n",
       "    }\n",
       "\n",
       "    .dataframe thead tr:last-of-type th {\n",
       "        text-align: right;\n",
       "    }\n",
       "</style>\n",
       "<table border=\"1\" class=\"dataframe\">\n",
       "  <thead>\n",
       "    <tr>\n",
       "      <th></th>\n",
       "      <th>count</th>\n",
       "      <th>sum</th>\n",
       "      <th>mean</th>\n",
       "    </tr>\n",
       "    <tr>\n",
       "      <th></th>\n",
       "      <th>debt</th>\n",
       "      <th>debt</th>\n",
       "      <th>debt</th>\n",
       "    </tr>\n",
       "    <tr>\n",
       "      <th>total_income_category</th>\n",
       "      <th></th>\n",
       "      <th></th>\n",
       "      <th></th>\n",
       "    </tr>\n",
       "  </thead>\n",
       "  <tbody>\n",
       "    <tr>\n",
       "      <th>A</th>\n",
       "      <td>25</td>\n",
       "      <td>2</td>\n",
       "      <td>0.080000</td>\n",
       "    </tr>\n",
       "    <tr>\n",
       "      <th>B</th>\n",
       "      <td>5014</td>\n",
       "      <td>354</td>\n",
       "      <td>0.070602</td>\n",
       "    </tr>\n",
       "    <tr>\n",
       "      <th>C</th>\n",
       "      <td>15921</td>\n",
       "      <td>1353</td>\n",
       "      <td>0.084982</td>\n",
       "    </tr>\n",
       "    <tr>\n",
       "      <th>D</th>\n",
       "      <td>349</td>\n",
       "      <td>21</td>\n",
       "      <td>0.060172</td>\n",
       "    </tr>\n",
       "    <tr>\n",
       "      <th>E</th>\n",
       "      <td>22</td>\n",
       "      <td>2</td>\n",
       "      <td>0.090909</td>\n",
       "    </tr>\n",
       "  </tbody>\n",
       "</table>\n",
       "</div>"
      ],
      "text/plain": [
       "                       count   sum      mean\n",
       "                        debt  debt      debt\n",
       "total_income_category                       \n",
       "A                         25     2  0.080000\n",
       "B                       5014   354  0.070602\n",
       "C                      15921  1353  0.084982\n",
       "D                        349    21  0.060172\n",
       "E                         22     2  0.090909"
      ]
     },
     "execution_count": 32,
     "metadata": {},
     "output_type": "execute_result"
    }
   ],
   "source": [
    "data_pivot = data.pivot_table(index=['total_income_category'], values = 'debt', aggfunc=['count', 'sum', 'mean'])\n",
    "data_pivot   "
   ]
  },
  {
   "cell_type": "markdown",
   "id": "240504a7",
   "metadata": {
    "deletable": false,
    "id": "e8593def"
   },
   "source": [
    "**Вывод:** \n",
    "Достаточно данных собрано только для людей в категориях B и C, поэтому скажать можно только о них. Люди с доходом из категории B просрочивают выплаты с вероятностью 7%, люди с категорией D с вероятностью 8%"
   ]
  },
  {
   "cell_type": "markdown",
   "id": "1c09c3b7",
   "metadata": {
    "deletable": false,
    "editable": false,
    "id": "99ecbd1f"
   },
   "source": [
    "#### 3.4 Как разные цели кредита влияют на его возврат в срок?"
   ]
  },
  {
   "cell_type": "code",
   "execution_count": 33,
   "id": "dd030b3d",
   "metadata": {
    "deletable": false,
    "id": "2b687290"
   },
   "outputs": [
    {
     "data": {
      "text/html": [
       "<div>\n",
       "<style scoped>\n",
       "    .dataframe tbody tr th:only-of-type {\n",
       "        vertical-align: middle;\n",
       "    }\n",
       "\n",
       "    .dataframe tbody tr th {\n",
       "        vertical-align: top;\n",
       "    }\n",
       "\n",
       "    .dataframe thead tr th {\n",
       "        text-align: left;\n",
       "    }\n",
       "\n",
       "    .dataframe thead tr:last-of-type th {\n",
       "        text-align: right;\n",
       "    }\n",
       "</style>\n",
       "<table border=\"1\" class=\"dataframe\">\n",
       "  <thead>\n",
       "    <tr>\n",
       "      <th></th>\n",
       "      <th>count</th>\n",
       "      <th>sum</th>\n",
       "      <th>mean</th>\n",
       "    </tr>\n",
       "    <tr>\n",
       "      <th></th>\n",
       "      <th>debt</th>\n",
       "      <th>debt</th>\n",
       "      <th>debt</th>\n",
       "    </tr>\n",
       "    <tr>\n",
       "      <th>purpose_category</th>\n",
       "      <th></th>\n",
       "      <th></th>\n",
       "      <th></th>\n",
       "    </tr>\n",
       "  </thead>\n",
       "  <tbody>\n",
       "    <tr>\n",
       "      <th>операции с автомобилем</th>\n",
       "      <td>4279</td>\n",
       "      <td>400</td>\n",
       "      <td>0.093480</td>\n",
       "    </tr>\n",
       "    <tr>\n",
       "      <th>операции с недвижимостью</th>\n",
       "      <td>10751</td>\n",
       "      <td>780</td>\n",
       "      <td>0.072551</td>\n",
       "    </tr>\n",
       "    <tr>\n",
       "      <th>получение образования</th>\n",
       "      <td>3988</td>\n",
       "      <td>369</td>\n",
       "      <td>0.092528</td>\n",
       "    </tr>\n",
       "    <tr>\n",
       "      <th>проведение свадьбы</th>\n",
       "      <td>2313</td>\n",
       "      <td>183</td>\n",
       "      <td>0.079118</td>\n",
       "    </tr>\n",
       "  </tbody>\n",
       "</table>\n",
       "</div>"
      ],
      "text/plain": [
       "                          count  sum      mean\n",
       "                           debt debt      debt\n",
       "purpose_category                              \n",
       "операции с автомобилем     4279  400  0.093480\n",
       "операции с недвижимостью  10751  780  0.072551\n",
       "получение образования      3988  369  0.092528\n",
       "проведение свадьбы         2313  183  0.079118"
      ]
     },
     "execution_count": 33,
     "metadata": {},
     "output_type": "execute_result"
    }
   ],
   "source": [
    "data_pivot = data.pivot_table(index=['purpose_category'], values = 'debt', aggfunc=['count', 'sum', 'mean'])\n",
    "data_pivot   "
   ]
  },
  {
   "cell_type": "markdown",
   "id": "6465c4c5",
   "metadata": {
    "deletable": false,
    "id": "b4bb2ce6"
   },
   "source": [
    "**Вывод:** \n",
    "Чаще всего выплачивают кредиты в срок люди, которые брали кредит на покупку недвижимости, за ними идут люди, которые брали кредит на свадьбу, потом на образование и автомобиль. \n"
   ]
  },
  {
   "cell_type": "markdown",
   "id": "14d4bf42",
   "metadata": {
    "deletable": false,
    "editable": false,
    "id": "09c3ac4c"
   },
   "source": [
    "#### 3.5 Приведите возможные причины появления пропусков в исходных данных."
   ]
  },
  {
   "cell_type": "markdown",
   "id": "2d787bc7",
   "metadata": {
    "deletable": false,
    "id": "9da2ceda"
   },
   "source": [
    "*Ответ:* \n",
    "Неправильно заполнили, ввели итд информацию. Возможно, на стадии обработки где-то произошла ошибка. "
   ]
  },
  {
   "cell_type": "markdown",
   "id": "3f6404c2",
   "metadata": {
    "deletable": false,
    "editable": false,
    "id": "7b0487d6"
   },
   "source": [
    "#### 3.6 Объясните, почему заполнить пропуски медианным значением — лучшее решение для количественных переменных."
   ]
  },
  {
   "cell_type": "markdown",
   "id": "4b6be302",
   "metadata": {
    "deletable": false,
    "id": "7ecf2b8e"
   },
   "source": [
    "*Ответ:* \n",
    "Потому, что она даёт ровное серединное значение данных без отклонения в какую-либо сторону. "
   ]
  },
  {
   "cell_type": "markdown",
   "id": "3564f224",
   "metadata": {
    "deletable": false,
    "editable": false,
    "id": "6db5255a"
   },
   "source": [
    "### Шаг 4: общий вывод."
   ]
  },
  {
   "cell_type": "markdown",
   "id": "511184fd",
   "metadata": {
    "deletable": false,
    "id": "bad65432"
   },
   "source": [
    "Общий вывод из данных можно сделать такой:\n",
    "1. Корреляция между количество детей и просроченными платежами присутствует, и она заключается в том, что большей количество детей в семье повышает шанс просрочить платёж.\n",
    "2. Связь между семейным положением и выплатой кредита в срок также существует: группы людей никогда не состоявшие в браке реже выплачивают вовремя кредит. Также повышенный шанс на просрочку платежа у людей состоящих в гражданском браке. \n",
    "3. Сделать полноценный вывод по выплатам кредита вовремя в зависимости от достатка, к сожалению, нельзя, так как недостаточно данных. Можно привести данные только категории B и D - 7% и 8% вероятность просрочки соответственно. \n",
    "4. Чаще всего выплачивают кредиты в срок люди, которые брали кредит на покупку недвижимости, за ними идут люди, которые брали кредит на свадьбу, потом на образование и автомобиль"
   ]
  }
 ],
 "metadata": {
  "ExecuteTimeLog": [
   {
    "duration": 449,
    "start_time": "2022-10-07T02:57:27.962Z"
   },
   {
    "duration": 21,
    "start_time": "2022-10-07T02:57:28.413Z"
   },
   {
    "duration": 15,
    "start_time": "2022-10-07T02:57:28.435Z"
   },
   {
    "duration": 9,
    "start_time": "2022-10-07T02:57:28.452Z"
   },
   {
    "duration": 32,
    "start_time": "2022-10-07T02:57:28.463Z"
   },
   {
    "duration": 4,
    "start_time": "2022-10-07T02:57:28.496Z"
   },
   {
    "duration": 16,
    "start_time": "2022-10-07T02:57:28.502Z"
   },
   {
    "duration": 4,
    "start_time": "2022-10-07T02:57:28.539Z"
   },
   {
    "duration": 12,
    "start_time": "2022-10-07T02:57:28.545Z"
   },
   {
    "duration": 4,
    "start_time": "2022-10-07T02:57:28.560Z"
   },
   {
    "duration": 39,
    "start_time": "2022-10-07T02:57:28.566Z"
   },
   {
    "duration": 32,
    "start_time": "2022-10-07T02:57:28.607Z"
   },
   {
    "duration": 4,
    "start_time": "2022-10-07T02:57:28.641Z"
   },
   {
    "duration": 17,
    "start_time": "2022-10-07T02:57:28.646Z"
   },
   {
    "duration": 22,
    "start_time": "2022-10-07T02:57:28.664Z"
   },
   {
    "duration": 17,
    "start_time": "2022-10-07T02:57:28.687Z"
   },
   {
    "duration": 4,
    "start_time": "2022-10-07T02:57:28.705Z"
   },
   {
    "duration": 33,
    "start_time": "2022-10-07T02:57:28.710Z"
   },
   {
    "duration": 7,
    "start_time": "2022-10-07T02:57:28.744Z"
   },
   {
    "duration": 5,
    "start_time": "2022-10-07T02:57:28.753Z"
   },
   {
    "duration": 9,
    "start_time": "2022-10-07T02:57:28.760Z"
   },
   {
    "duration": 1,
    "start_time": "2022-10-07T02:57:28.771Z"
   },
   {
    "duration": 5,
    "start_time": "2022-10-07T02:57:28.774Z"
   },
   {
    "duration": 4,
    "start_time": "2022-10-07T02:57:28.780Z"
   },
   {
    "duration": 5,
    "start_time": "2022-10-07T02:57:28.785Z"
   },
   {
    "duration": 10,
    "start_time": "2022-10-07T02:59:45.852Z"
   },
   {
    "duration": 11,
    "start_time": "2022-10-07T03:00:12.974Z"
   },
   {
    "duration": 14,
    "start_time": "2022-10-07T03:00:37.158Z"
   },
   {
    "duration": 9,
    "start_time": "2022-10-07T03:01:23.070Z"
   },
   {
    "duration": 8,
    "start_time": "2022-10-07T03:03:26.861Z"
   },
   {
    "duration": 8,
    "start_time": "2022-10-07T03:03:31.925Z"
   },
   {
    "duration": 16,
    "start_time": "2022-10-07T03:03:39.357Z"
   },
   {
    "duration": 76,
    "start_time": "2022-10-07T03:13:17.035Z"
   },
   {
    "duration": 18,
    "start_time": "2022-10-07T03:13:34.276Z"
   },
   {
    "duration": 29,
    "start_time": "2022-10-07T03:13:54.460Z"
   },
   {
    "duration": 27,
    "start_time": "2022-10-07T03:14:07.468Z"
   },
   {
    "duration": 20,
    "start_time": "2022-10-07T03:14:20.965Z"
   },
   {
    "duration": 21,
    "start_time": "2022-10-07T03:14:33.099Z"
   },
   {
    "duration": 18,
    "start_time": "2022-10-07T03:14:44.987Z"
   },
   {
    "duration": 193,
    "start_time": "2022-10-07T03:14:52.907Z"
   },
   {
    "duration": 20,
    "start_time": "2022-10-07T03:15:01.659Z"
   },
   {
    "duration": 14,
    "start_time": "2022-10-07T03:19:34.042Z"
   },
   {
    "duration": 16,
    "start_time": "2022-10-07T03:19:48.753Z"
   },
   {
    "duration": 14,
    "start_time": "2022-10-07T03:20:27.922Z"
   },
   {
    "duration": 17,
    "start_time": "2022-10-07T03:21:10.665Z"
   },
   {
    "duration": 15,
    "start_time": "2022-10-07T03:21:18.169Z"
   },
   {
    "duration": 24,
    "start_time": "2022-10-07T03:21:29.963Z"
   },
   {
    "duration": 15,
    "start_time": "2022-10-07T03:22:20.505Z"
   },
   {
    "duration": 2089,
    "start_time": "2022-10-07T03:28:46.088Z"
   },
   {
    "duration": 19,
    "start_time": "2022-10-07T03:29:17.167Z"
   },
   {
    "duration": 107,
    "start_time": "2022-10-07T03:36:06.607Z"
   },
   {
    "duration": 40,
    "start_time": "2022-10-07T03:36:21.302Z"
   },
   {
    "duration": 971,
    "start_time": "2022-10-07T03:37:51.022Z"
   },
   {
    "duration": 796,
    "start_time": "2022-10-07T03:37:55.221Z"
   },
   {
    "duration": 964,
    "start_time": "2022-10-07T03:37:58.613Z"
   },
   {
    "duration": 481,
    "start_time": "2022-10-07T03:38:03.522Z"
   },
   {
    "duration": 22,
    "start_time": "2022-10-07T03:38:04.004Z"
   },
   {
    "duration": 16,
    "start_time": "2022-10-07T03:38:04.027Z"
   },
   {
    "duration": 9,
    "start_time": "2022-10-07T03:38:04.045Z"
   },
   {
    "duration": 32,
    "start_time": "2022-10-07T03:38:04.055Z"
   },
   {
    "duration": 3,
    "start_time": "2022-10-07T03:38:04.089Z"
   },
   {
    "duration": 11,
    "start_time": "2022-10-07T03:38:04.093Z"
   },
   {
    "duration": 4,
    "start_time": "2022-10-07T03:38:04.105Z"
   },
   {
    "duration": 33,
    "start_time": "2022-10-07T03:38:04.111Z"
   },
   {
    "duration": 7,
    "start_time": "2022-10-07T03:38:04.147Z"
   },
   {
    "duration": 39,
    "start_time": "2022-10-07T03:38:04.155Z"
   },
   {
    "duration": 9,
    "start_time": "2022-10-07T03:38:04.196Z"
   },
   {
    "duration": 9,
    "start_time": "2022-10-07T03:38:04.206Z"
   },
   {
    "duration": 23,
    "start_time": "2022-10-07T03:38:04.217Z"
   },
   {
    "duration": 21,
    "start_time": "2022-10-07T03:38:04.242Z"
   },
   {
    "duration": 16,
    "start_time": "2022-10-07T03:38:04.264Z"
   },
   {
    "duration": 3,
    "start_time": "2022-10-07T03:38:04.281Z"
   },
   {
    "duration": 16,
    "start_time": "2022-10-07T03:38:04.286Z"
   },
   {
    "duration": 5,
    "start_time": "2022-10-07T03:38:04.304Z"
   },
   {
    "duration": 27,
    "start_time": "2022-10-07T03:38:04.311Z"
   },
   {
    "duration": 16,
    "start_time": "2022-10-07T03:38:04.340Z"
   },
   {
    "duration": 25,
    "start_time": "2022-10-07T03:38:04.357Z"
   },
   {
    "duration": 15,
    "start_time": "2022-10-07T03:38:04.384Z"
   },
   {
    "duration": 39,
    "start_time": "2022-10-07T03:38:04.400Z"
   },
   {
    "duration": 1886,
    "start_time": "2022-10-07T03:38:04.441Z"
   },
   {
    "duration": 41,
    "start_time": "2022-10-07T03:38:08.073Z"
   },
   {
    "duration": 141,
    "start_time": "2022-10-07T03:38:35.512Z"
   },
   {
    "duration": 15,
    "start_time": "2022-10-07T03:39:06.185Z"
   },
   {
    "duration": 20,
    "start_time": "2022-10-07T03:39:11.913Z"
   },
   {
    "duration": 35,
    "start_time": "2022-10-07T03:39:50.881Z"
   },
   {
    "duration": 20,
    "start_time": "2022-10-07T03:40:08.272Z"
   },
   {
    "duration": 54,
    "start_time": "2022-10-07T03:41:16.312Z"
   },
   {
    "duration": 21,
    "start_time": "2022-10-07T03:42:09.176Z"
   },
   {
    "duration": 56,
    "start_time": "2022-10-07T03:43:11.128Z"
   },
   {
    "duration": 27,
    "start_time": "2022-10-07T03:43:31.383Z"
   },
   {
    "duration": 21,
    "start_time": "2022-10-07T03:43:48.183Z"
   },
   {
    "duration": 47,
    "start_time": "2022-10-07T15:37:12.099Z"
   },
   {
    "duration": 8,
    "start_time": "2022-10-07T15:37:27.672Z"
   },
   {
    "duration": 570,
    "start_time": "2022-10-07T15:37:36.391Z"
   },
   {
    "duration": 23,
    "start_time": "2022-10-07T15:37:36.963Z"
   },
   {
    "duration": 16,
    "start_time": "2022-10-07T15:37:36.987Z"
   },
   {
    "duration": 8,
    "start_time": "2022-10-07T15:37:37.006Z"
   },
   {
    "duration": 36,
    "start_time": "2022-10-07T15:37:37.016Z"
   },
   {
    "duration": 4,
    "start_time": "2022-10-07T15:37:37.053Z"
   },
   {
    "duration": 11,
    "start_time": "2022-10-07T15:37:37.059Z"
   },
   {
    "duration": 26,
    "start_time": "2022-10-07T15:37:37.072Z"
   },
   {
    "duration": 12,
    "start_time": "2022-10-07T15:37:37.099Z"
   },
   {
    "duration": 9,
    "start_time": "2022-10-07T15:37:37.113Z"
   },
   {
    "duration": 33,
    "start_time": "2022-10-07T15:37:37.124Z"
   },
   {
    "duration": 9,
    "start_time": "2022-10-07T15:37:37.160Z"
   },
   {
    "duration": 26,
    "start_time": "2022-10-07T15:37:37.171Z"
   },
   {
    "duration": 15,
    "start_time": "2022-10-07T15:37:37.198Z"
   },
   {
    "duration": 19,
    "start_time": "2022-10-07T15:37:37.215Z"
   },
   {
    "duration": 18,
    "start_time": "2022-10-07T15:37:37.236Z"
   },
   {
    "duration": 4,
    "start_time": "2022-10-07T15:37:37.256Z"
   },
   {
    "duration": 36,
    "start_time": "2022-10-07T15:37:37.261Z"
   },
   {
    "duration": 6,
    "start_time": "2022-10-07T15:37:37.299Z"
   },
   {
    "duration": 13,
    "start_time": "2022-10-07T15:37:37.307Z"
   },
   {
    "duration": 12,
    "start_time": "2022-10-07T15:37:37.321Z"
   },
   {
    "duration": 32,
    "start_time": "2022-10-07T15:37:37.335Z"
   },
   {
    "duration": 28,
    "start_time": "2022-10-07T15:37:37.368Z"
   },
   {
    "duration": 14,
    "start_time": "2022-10-07T15:37:37.398Z"
   },
   {
    "duration": 22,
    "start_time": "2022-10-07T15:37:37.414Z"
   },
   {
    "duration": 25,
    "start_time": "2022-10-07T15:48:50.643Z"
   },
   {
    "duration": 77,
    "start_time": "2022-10-07T15:51:30.115Z"
   },
   {
    "duration": 14,
    "start_time": "2022-10-07T15:52:56.344Z"
   },
   {
    "duration": 26,
    "start_time": "2022-10-07T15:53:42.343Z"
   },
   {
    "duration": 37,
    "start_time": "2022-10-07T15:53:46.710Z"
   },
   {
    "duration": 23,
    "start_time": "2022-10-07T15:56:18.761Z"
   },
   {
    "duration": 24,
    "start_time": "2022-10-07T15:56:25.586Z"
   },
   {
    "duration": 24,
    "start_time": "2022-10-07T15:56:48.874Z"
   },
   {
    "duration": 19,
    "start_time": "2022-10-07T15:57:26.089Z"
   },
   {
    "duration": 21,
    "start_time": "2022-10-07T15:57:33.673Z"
   },
   {
    "duration": 20,
    "start_time": "2022-10-07T15:57:40.464Z"
   },
   {
    "duration": 20,
    "start_time": "2022-10-07T15:58:17.520Z"
   },
   {
    "duration": 19,
    "start_time": "2022-10-07T15:59:40.496Z"
   },
   {
    "duration": 23,
    "start_time": "2022-10-07T15:59:58.488Z"
   },
   {
    "duration": 20,
    "start_time": "2022-10-07T16:00:08.240Z"
   },
   {
    "duration": 24,
    "start_time": "2022-10-07T16:00:12.255Z"
   },
   {
    "duration": 21,
    "start_time": "2022-10-07T16:00:21.728Z"
   },
   {
    "duration": 28,
    "start_time": "2022-10-07T16:00:39.072Z"
   },
   {
    "duration": 28,
    "start_time": "2022-10-07T16:01:21.072Z"
   },
   {
    "duration": 54,
    "start_time": "2022-10-07T19:23:54.199Z"
   },
   {
    "duration": 735,
    "start_time": "2022-10-07T19:23:58.884Z"
   },
   {
    "duration": 21,
    "start_time": "2022-10-07T19:23:59.620Z"
   },
   {
    "duration": 13,
    "start_time": "2022-10-07T19:23:59.643Z"
   },
   {
    "duration": 8,
    "start_time": "2022-10-07T19:23:59.658Z"
   },
   {
    "duration": 41,
    "start_time": "2022-10-07T19:23:59.667Z"
   },
   {
    "duration": 3,
    "start_time": "2022-10-07T19:23:59.710Z"
   },
   {
    "duration": 10,
    "start_time": "2022-10-07T19:23:59.714Z"
   },
   {
    "duration": 3,
    "start_time": "2022-10-07T19:23:59.726Z"
   },
   {
    "duration": 7,
    "start_time": "2022-10-07T19:23:59.731Z"
   },
   {
    "duration": 4,
    "start_time": "2022-10-07T19:23:59.740Z"
   },
   {
    "duration": 31,
    "start_time": "2022-10-07T19:23:59.745Z"
   },
   {
    "duration": 32,
    "start_time": "2022-10-07T19:23:59.777Z"
   },
   {
    "duration": 3,
    "start_time": "2022-10-07T19:23:59.811Z"
   },
   {
    "duration": 14,
    "start_time": "2022-10-07T19:23:59.815Z"
   },
   {
    "duration": 24,
    "start_time": "2022-10-07T19:23:59.830Z"
   },
   {
    "duration": 17,
    "start_time": "2022-10-07T19:23:59.855Z"
   },
   {
    "duration": 3,
    "start_time": "2022-10-07T19:23:59.873Z"
   },
   {
    "duration": 10,
    "start_time": "2022-10-07T19:23:59.877Z"
   },
   {
    "duration": 25,
    "start_time": "2022-10-07T19:23:59.888Z"
   },
   {
    "duration": 3,
    "start_time": "2022-10-07T19:23:59.914Z"
   },
   {
    "duration": 10,
    "start_time": "2022-10-07T19:23:59.919Z"
   },
   {
    "duration": 99,
    "start_time": "2022-10-07T19:23:59.931Z"
   },
   {
    "duration": 0,
    "start_time": "2022-10-07T19:24:00.031Z"
   },
   {
    "duration": 0,
    "start_time": "2022-10-07T19:24:00.033Z"
   },
   {
    "duration": 0,
    "start_time": "2022-10-07T19:24:00.034Z"
   },
   {
    "duration": 26,
    "start_time": "2022-10-07T19:24:34.712Z"
   },
   {
    "duration": 16,
    "start_time": "2022-10-07T19:25:25.535Z"
   },
   {
    "duration": 706,
    "start_time": "2022-10-07T19:26:25.796Z"
   },
   {
    "duration": 677,
    "start_time": "2022-10-07T19:26:46.559Z"
   },
   {
    "duration": 866,
    "start_time": "2022-10-07T19:26:59.886Z"
   },
   {
    "duration": 685,
    "start_time": "2022-10-07T19:27:10.351Z"
   },
   {
    "duration": 16,
    "start_time": "2022-10-07T19:27:17.079Z"
   },
   {
    "duration": 20,
    "start_time": "2022-10-07T19:28:03.518Z"
   },
   {
    "duration": 13,
    "start_time": "2022-10-07T19:28:25.310Z"
   },
   {
    "duration": 15,
    "start_time": "2022-10-07T19:29:11.285Z"
   },
   {
    "duration": 17,
    "start_time": "2022-10-07T19:29:28.998Z"
   },
   {
    "duration": 76,
    "start_time": "2022-10-07T19:32:55.053Z"
   },
   {
    "duration": 64,
    "start_time": "2022-10-07T19:33:15.076Z"
   },
   {
    "duration": 63,
    "start_time": "2022-10-07T19:34:09.555Z"
   },
   {
    "duration": 15,
    "start_time": "2022-10-07T19:34:40.861Z"
   },
   {
    "duration": 723,
    "start_time": "2022-10-07T19:35:18.061Z"
   },
   {
    "duration": 734,
    "start_time": "2022-10-07T19:35:51.837Z"
   },
   {
    "duration": 16,
    "start_time": "2022-10-07T19:36:05.062Z"
   },
   {
    "duration": 15,
    "start_time": "2022-10-07T19:36:13.225Z"
   },
   {
    "duration": 18,
    "start_time": "2022-10-07T19:37:31.387Z"
   },
   {
    "duration": 19,
    "start_time": "2022-10-07T19:41:43.038Z"
   },
   {
    "duration": 16,
    "start_time": "2022-10-07T19:41:53.586Z"
   },
   {
    "duration": 14,
    "start_time": "2022-10-07T19:43:02.291Z"
   },
   {
    "duration": 14,
    "start_time": "2022-10-07T19:44:14.305Z"
   },
   {
    "duration": 119,
    "start_time": "2022-10-07T19:45:44.266Z"
   },
   {
    "duration": 45,
    "start_time": "2022-10-07T19:45:57.729Z"
   },
   {
    "duration": 126,
    "start_time": "2022-10-07T19:46:48.794Z"
   },
   {
    "duration": 18,
    "start_time": "2022-10-07T19:46:56.017Z"
   },
   {
    "duration": 675,
    "start_time": "2022-10-07T19:48:03.246Z"
   },
   {
    "duration": 483,
    "start_time": "2022-10-07T19:48:24.905Z"
   },
   {
    "duration": 530,
    "start_time": "2022-10-07T19:49:08.057Z"
   },
   {
    "duration": 547,
    "start_time": "2022-10-07T19:49:34.537Z"
   },
   {
    "duration": 544,
    "start_time": "2022-10-07T19:49:44.385Z"
   },
   {
    "duration": 18,
    "start_time": "2022-10-07T19:49:47.512Z"
   },
   {
    "duration": 536,
    "start_time": "2022-10-07T19:50:16.265Z"
   },
   {
    "duration": 17,
    "start_time": "2022-10-07T19:50:29.067Z"
   },
   {
    "duration": 473,
    "start_time": "2022-10-07T19:50:50.500Z"
   },
   {
    "duration": 18,
    "start_time": "2022-10-07T19:51:01.313Z"
   },
   {
    "duration": 486,
    "start_time": "2022-10-07T19:51:19.398Z"
   },
   {
    "duration": 627,
    "start_time": "2022-10-07T19:51:40.976Z"
   },
   {
    "duration": 20,
    "start_time": "2022-10-07T19:52:23.306Z"
   },
   {
    "duration": 18,
    "start_time": "2022-10-07T19:53:03.320Z"
   },
   {
    "duration": 17,
    "start_time": "2022-10-07T19:53:13.464Z"
   },
   {
    "duration": 14,
    "start_time": "2022-10-07T19:53:56.984Z"
   },
   {
    "duration": 16,
    "start_time": "2022-10-07T19:56:22.490Z"
   },
   {
    "duration": 714,
    "start_time": "2022-10-08T05:50:29.555Z"
   },
   {
    "duration": 21,
    "start_time": "2022-10-08T05:50:30.271Z"
   },
   {
    "duration": 29,
    "start_time": "2022-10-08T05:50:30.294Z"
   },
   {
    "duration": 35,
    "start_time": "2022-10-08T05:50:30.326Z"
   },
   {
    "duration": 49,
    "start_time": "2022-10-08T05:50:30.363Z"
   },
   {
    "duration": 5,
    "start_time": "2022-10-08T05:50:30.413Z"
   },
   {
    "duration": 36,
    "start_time": "2022-10-08T05:50:30.419Z"
   },
   {
    "duration": 25,
    "start_time": "2022-10-08T05:50:30.457Z"
   },
   {
    "duration": 33,
    "start_time": "2022-10-08T05:50:30.484Z"
   },
   {
    "duration": 19,
    "start_time": "2022-10-08T05:50:30.520Z"
   },
   {
    "duration": 57,
    "start_time": "2022-10-08T05:50:30.541Z"
   },
   {
    "duration": 20,
    "start_time": "2022-10-08T05:50:30.600Z"
   },
   {
    "duration": 23,
    "start_time": "2022-10-08T05:50:30.621Z"
   },
   {
    "duration": 23,
    "start_time": "2022-10-08T05:50:30.646Z"
   },
   {
    "duration": 51,
    "start_time": "2022-10-08T05:50:30.671Z"
   },
   {
    "duration": 19,
    "start_time": "2022-10-08T05:50:30.724Z"
   },
   {
    "duration": 6,
    "start_time": "2022-10-08T05:50:30.745Z"
   },
   {
    "duration": 19,
    "start_time": "2022-10-08T05:50:30.752Z"
   },
   {
    "duration": 11,
    "start_time": "2022-10-08T05:50:30.772Z"
   },
   {
    "duration": 7,
    "start_time": "2022-10-08T05:50:30.784Z"
   },
   {
    "duration": 25,
    "start_time": "2022-10-08T05:50:30.792Z"
   },
   {
    "duration": 87,
    "start_time": "2022-10-08T05:50:30.819Z"
   },
   {
    "duration": 0,
    "start_time": "2022-10-08T05:50:30.907Z"
   },
   {
    "duration": 0,
    "start_time": "2022-10-08T05:50:30.909Z"
   },
   {
    "duration": 0,
    "start_time": "2022-10-08T05:50:30.910Z"
   },
   {
    "duration": 454,
    "start_time": "2022-10-08T05:50:46.636Z"
   },
   {
    "duration": 25,
    "start_time": "2022-10-08T05:50:47.092Z"
   },
   {
    "duration": 15,
    "start_time": "2022-10-08T05:50:47.119Z"
   },
   {
    "duration": 9,
    "start_time": "2022-10-08T05:50:47.136Z"
   },
   {
    "duration": 58,
    "start_time": "2022-10-08T05:50:47.146Z"
   },
   {
    "duration": 3,
    "start_time": "2022-10-08T05:50:47.206Z"
   },
   {
    "duration": 12,
    "start_time": "2022-10-08T05:50:47.211Z"
   },
   {
    "duration": 4,
    "start_time": "2022-10-08T05:50:47.225Z"
   },
   {
    "duration": 9,
    "start_time": "2022-10-08T05:50:47.230Z"
   },
   {
    "duration": 3,
    "start_time": "2022-10-08T05:50:47.242Z"
   },
   {
    "duration": 54,
    "start_time": "2022-10-08T05:50:47.247Z"
   },
   {
    "duration": 9,
    "start_time": "2022-10-08T05:50:47.303Z"
   },
   {
    "duration": 4,
    "start_time": "2022-10-08T05:50:47.313Z"
   },
   {
    "duration": 12,
    "start_time": "2022-10-08T05:50:47.318Z"
   },
   {
    "duration": 20,
    "start_time": "2022-10-08T05:50:47.331Z"
   },
   {
    "duration": 17,
    "start_time": "2022-10-08T05:50:47.377Z"
   },
   {
    "duration": 4,
    "start_time": "2022-10-08T05:50:47.396Z"
   },
   {
    "duration": 12,
    "start_time": "2022-10-08T05:50:47.401Z"
   },
   {
    "duration": 8,
    "start_time": "2022-10-08T05:50:47.415Z"
   },
   {
    "duration": 3,
    "start_time": "2022-10-08T05:50:47.425Z"
   },
   {
    "duration": 11,
    "start_time": "2022-10-08T05:50:47.429Z"
   },
   {
    "duration": 60,
    "start_time": "2022-10-08T05:50:47.441Z"
   },
   {
    "duration": 17,
    "start_time": "2022-10-08T05:50:47.503Z"
   },
   {
    "duration": 19,
    "start_time": "2022-10-08T05:50:47.522Z"
   },
   {
    "duration": 45,
    "start_time": "2022-10-08T05:50:47.543Z"
   },
   {
    "duration": 40,
    "start_time": "2022-10-08T05:51:22.682Z"
   },
   {
    "duration": 29,
    "start_time": "2022-10-08T05:51:31.997Z"
   },
   {
    "duration": 11,
    "start_time": "2022-10-08T05:53:16.093Z"
   },
   {
    "duration": 25,
    "start_time": "2022-10-08T05:53:31.051Z"
   },
   {
    "duration": 114,
    "start_time": "2022-10-08T05:55:44.405Z"
   },
   {
    "duration": 54,
    "start_time": "2022-10-08T05:56:15.981Z"
   },
   {
    "duration": 54,
    "start_time": "2022-10-08T05:58:26.248Z"
   },
   {
    "duration": 47,
    "start_time": "2022-10-08T06:24:15.710Z"
   },
   {
    "duration": 523,
    "start_time": "2022-10-08T06:24:24.090Z"
   },
   {
    "duration": 22,
    "start_time": "2022-10-08T06:24:24.615Z"
   },
   {
    "duration": 15,
    "start_time": "2022-10-08T06:24:24.638Z"
   },
   {
    "duration": 8,
    "start_time": "2022-10-08T06:24:24.655Z"
   },
   {
    "duration": 43,
    "start_time": "2022-10-08T06:24:24.665Z"
   },
   {
    "duration": 4,
    "start_time": "2022-10-08T06:24:24.709Z"
   },
   {
    "duration": 10,
    "start_time": "2022-10-08T06:24:24.715Z"
   },
   {
    "duration": 5,
    "start_time": "2022-10-08T06:24:24.726Z"
   },
   {
    "duration": 11,
    "start_time": "2022-10-08T06:24:24.732Z"
   },
   {
    "duration": 5,
    "start_time": "2022-10-08T06:24:24.745Z"
   },
   {
    "duration": 55,
    "start_time": "2022-10-08T06:24:24.751Z"
   },
   {
    "duration": 10,
    "start_time": "2022-10-08T06:24:24.807Z"
   },
   {
    "duration": 4,
    "start_time": "2022-10-08T06:24:24.819Z"
   },
   {
    "duration": 17,
    "start_time": "2022-10-08T06:24:24.825Z"
   },
   {
    "duration": 21,
    "start_time": "2022-10-08T06:24:24.844Z"
   },
   {
    "duration": 37,
    "start_time": "2022-10-08T06:24:24.867Z"
   },
   {
    "duration": 4,
    "start_time": "2022-10-08T06:24:24.906Z"
   },
   {
    "duration": 11,
    "start_time": "2022-10-08T06:24:24.911Z"
   },
   {
    "duration": 9,
    "start_time": "2022-10-08T06:24:24.923Z"
   },
   {
    "duration": 3,
    "start_time": "2022-10-08T06:24:24.933Z"
   },
   {
    "duration": 10,
    "start_time": "2022-10-08T06:24:24.938Z"
   },
   {
    "duration": 71,
    "start_time": "2022-10-08T06:24:24.949Z"
   },
   {
    "duration": 24,
    "start_time": "2022-10-08T06:24:25.021Z"
   },
   {
    "duration": 16,
    "start_time": "2022-10-08T06:24:25.047Z"
   },
   {
    "duration": 38,
    "start_time": "2022-10-08T06:24:25.064Z"
   },
   {
    "duration": 23,
    "start_time": "2022-10-08T06:24:25.104Z"
   },
   {
    "duration": 41,
    "start_time": "2022-10-08T06:24:29.223Z"
   },
   {
    "duration": 49,
    "start_time": "2022-10-08T06:24:46.814Z"
   },
   {
    "duration": 47,
    "start_time": "2022-10-08T06:25:26.494Z"
   },
   {
    "duration": 34,
    "start_time": "2022-10-08T06:29:07.102Z"
   },
   {
    "duration": 46,
    "start_time": "2022-10-08T06:29:16.924Z"
   },
   {
    "duration": 40,
    "start_time": "2022-10-08T06:30:11.284Z"
   },
   {
    "duration": 27,
    "start_time": "2022-10-08T06:33:18.523Z"
   },
   {
    "duration": 119,
    "start_time": "2022-10-08T08:11:12.250Z"
   }
  ],
  "colab": {
   "name": "dpp_template_part2.ipynb",
   "provenance": []
  },
  "kernelspec": {
   "display_name": "Python 3 (ipykernel)",
   "language": "python",
   "name": "python3"
  },
  "language_info": {
   "codemirror_mode": {
    "name": "ipython",
    "version": 3
   },
   "file_extension": ".py",
   "mimetype": "text/x-python",
   "name": "python",
   "nbconvert_exporter": "python",
   "pygments_lexer": "ipython3",
   "version": "3.9.5"
  },
  "toc": {
   "base_numbering": 1,
   "nav_menu": {},
   "number_sections": true,
   "sideBar": true,
   "skip_h1_title": true,
   "title_cell": "Table of Contents",
   "title_sidebar": "Contents",
   "toc_cell": false,
   "toc_position": {},
   "toc_section_display": true,
   "toc_window_display": false
  }
 },
 "nbformat": 4,
 "nbformat_minor": 5
}
